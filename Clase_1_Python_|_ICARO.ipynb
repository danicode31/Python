{
  "nbformat": 4,
  "nbformat_minor": 0,
  "metadata": {
    "colab": {
      "provenance": [],
      "include_colab_link": true
    },
    "kernelspec": {
      "name": "python3",
      "display_name": "Python 3"
    },
    "language_info": {
      "name": "python"
    }
  },
  "cells": [
    {
      "cell_type": "markdown",
      "metadata": {
        "id": "view-in-github",
        "colab_type": "text"
      },
      "source": [
        "<a href=\"https://colab.research.google.com/github/danicode31/Python/blob/master/Clase_1_Python_%7C_ICARO.ipynb\" target=\"_parent\"><img src=\"https://colab.research.google.com/assets/colab-badge.svg\" alt=\"Open In Colab\"/></a>"
      ]
    },
    {
      "cell_type": "markdown",
      "source": [
        "# Introducción a Python - ICARO\n",
        "_________________________________\n",
        "Clase: 01  \n",
        "Tema: Primeras líneas de código\n",
        "¡Bienvenido a tu primera Notebook!  \n",
        "_________________________________\n",
        "\n",
        "\n"
      ],
      "metadata": {
        "id": "AGXOGk2N_ze8"
      }
    },
    {
      "cell_type": "markdown",
      "metadata": {
        "id": "1H2DGp0UxnmY"
      },
      "source": [
        "# Jupyter notebooks\n",
        "\n",
        "Jupyter notebooks nos permiten escribir código python, visualizar resultados y combinar todo esto con celdas de texto como esta!\n",
        "\n",
        "En las celdas de texto, podemos usar markdown para formatear las celdas. Veamos algunos de los tags más comunes\n",
        "\n",
        "# Headings\n",
        "\n",
        "Para los headings (títulos) se usa el simbolo \"#\" seguido de un espacio.\n",
        "Mientras más \"#\" agreguemos, más pequeño será el heading. Veamos ejemplos:\n",
        "\n",
        "# título 1\n",
        "## título 2\n",
        "### título 3\n",
        "#### título 4\n",
        "\n",
        "# Colores\n",
        "\n",
        "Se puede asignar color a los textos de la siguiente forma:\n",
        "\n",
        "<font color=blue>Texto azul</font>\n",
        "\n",
        "<font color=red>Texto rojo</font>\n",
        "\n",
        "# Listas\n",
        "\n",
        "Usando \"-\" y un espacio antes del texto, podemos armar bullet lists:\n",
        "- item 1\n",
        "- item 2\n",
        "- item 3\n",
        "- item 4\n",
        "\n",
        "# Negrita\n",
        "Para usar negrita, debemos poner nuestro texto entre asteriscos dobles:\n",
        "**Texto en negrita**\n",
        "\n",
        "# Italica\n",
        "Para italica, en lugar de usar asteriscos dobles, usamos simples:\n",
        "*Texto en itálica*\n",
        "\n",
        "# Hipervínculos\n",
        "Para escribir texto con hipervínculos, debemos escribir el texto a mostrar entre [] seguido de la url entre (). Por ejemplo:\n",
        "[link a google](https://www.google.com)\n",
        "\n",
        "\n",
        "Estos son los tags más comúnes que vamos a utilizar, de todas formas, hay muchos más y **TODO ESTA EN GOOGLE**\n",
        "\n",
        "\n",
        "# Celdas de código\n",
        "\n",
        "En el curso vamos a utilizar **python** como lenguaje de programación. Las celdas de código de jupyter nos permiten escribir código python que vamos a aprender en las próximas clases.\n",
        "\n",
        "Veamos un ejemplo:\n"
      ]
    },
    {
      "cell_type": "code",
      "metadata": {
        "id": "JHXJIrdeQxaY"
      },
      "source": [
        "print(\"Hola mundo!\")"
      ],
      "execution_count": null,
      "outputs": []
    },
    {
      "cell_type": "code",
      "metadata": {
        "id": "DBbBI2UMQ0wr"
      },
      "source": [
        "2"
      ],
      "execution_count": null,
      "outputs": []
    },
    {
      "cell_type": "code",
      "metadata": {
        "id": "kcnGXFpcQ314"
      },
      "source": [
        "\"a\""
      ],
      "execution_count": null,
      "outputs": []
    },
    {
      "cell_type": "markdown",
      "metadata": {
        "id": "qbna6pvh3kvU"
      },
      "source": [
        "# Comandos mágicos\n",
        "\n",
        "Los comandos mágicos no son más que comandos los cuales están pensandos para resolver tareas comunes y repetitivas. Son muy fáciles de identificar, ya que poseen el prefijo de porcentaje (%)."
      ]
    },
    {
      "cell_type": "code",
      "metadata": {
        "id": "1NqZMgl-3mMj"
      },
      "source": [
        "%%time\n",
        "1 + 1\n",
        "2 - 2\n",
        "3 + 3\n",
        "print(\"hola\")\n",
        "print(3)"
      ],
      "execution_count": null,
      "outputs": []
    },
    {
      "cell_type": "code",
      "source": [
        "print(\"hola\")"
      ],
      "metadata": {
        "id": "jA1mcHqYVXsJ"
      },
      "execution_count": null,
      "outputs": []
    },
    {
      "cell_type": "code",
      "metadata": {
        "id": "NKGttJcFUUPl"
      },
      "source": [
        "%%capture\n",
        "print(\"a\")"
      ],
      "execution_count": null,
      "outputs": []
    },
    {
      "cell_type": "code",
      "source": [
        "print(\"a\")"
      ],
      "metadata": {
        "id": "gcKJCbDAywqT"
      },
      "execution_count": null,
      "outputs": []
    },
    {
      "cell_type": "markdown",
      "metadata": {
        "id": "O5lE4rFl4ZGK"
      },
      "source": [
        "Vamos a estar utilizandolos más adelante a lo largo del curso."
      ]
    },
    {
      "cell_type": "markdown",
      "metadata": {
        "id": "Pf-mKbb74MUL"
      },
      "source": [
        "# Comandos de terminal\n",
        "\n",
        "\n"
      ]
    },
    {
      "cell_type": "code",
      "metadata": {
        "id": "Tz16omJi4CRw"
      },
      "source": [
        "!ls"
      ],
      "execution_count": null,
      "outputs": []
    },
    {
      "cell_type": "code",
      "metadata": {
        "id": "bmKzsREG4pE_"
      },
      "source": [
        "!pwd"
      ],
      "execution_count": null,
      "outputs": []
    },
    {
      "cell_type": "code",
      "metadata": {
        "id": "nk_swUzH4raK"
      },
      "source": [
        "%%capture\n",
        "!pwd"
      ],
      "execution_count": null,
      "outputs": []
    },
    {
      "cell_type": "markdown",
      "source": [
        "# ¡Empecemos a programar!\n",
        "\n",
        "Recomendación: Además de ejecutar el notebook, modifiquen, prueben, rompan... ¡Nada es irreversible!\n",
        "\n",
        "# Celdas de código\n",
        "\n",
        "En las celdas de código, se puede ejecutar código python\n",
        "\n",
        "\n",
        "\n",
        "\n"
      ],
      "metadata": {
        "id": "5zkhs16ceUkJ"
      }
    },
    {
      "cell_type": "code",
      "source": [
        "1 + 1"
      ],
      "metadata": {
        "id": "prBlvzOC4cer"
      },
      "execution_count": null,
      "outputs": []
    },
    {
      "cell_type": "code",
      "source": [
        "1 + 1\n",
        "1 + 3\n",
        "4 + 5 # Sume cuatro mas cinco"
      ],
      "metadata": {
        "id": "YHnQRoPt4gV4"
      },
      "execution_count": null,
      "outputs": []
    },
    {
      "cell_type": "code",
      "source": [
        "# Comentarios\n",
        "# En python, todas las lineas que empiecen con # son comentarios.\n",
        "# Los comentarios no ejecutan ninguna instrucción, simplemente sirven para dejar anotaciones en nuestro código"
      ],
      "metadata": {
        "id": "DirmTx5ReUwc"
      },
      "execution_count": null,
      "outputs": []
    },
    {
      "cell_type": "code",
      "source": [
        "\"\"\"\n",
        "También podemos hacer comentarios de varias lineas utilizando comillas como en este ejemplo\n",
        "a\n",
        "a\n",
        "a\n",
        "fafakngla\n",
        "a\n",
        "a\n",
        "\"\"\""
      ],
      "metadata": {
        "id": "0aMYMum5eWdh"
      },
      "execution_count": null,
      "outputs": []
    },
    {
      "cell_type": "markdown",
      "source": [
        "El primer comando que vamos a utilizar es print().\n",
        "\n",
        "print() es una **función** de python que nos permite imprimir mensajes:"
      ],
      "metadata": {
        "id": "rBvBN_y6egaf"
      }
    },
    {
      "cell_type": "code",
      "source": [
        "print(\"Hola Mundo\")"
      ],
      "metadata": {
        "id": "6xCVX50BedMI"
      },
      "execution_count": null,
      "outputs": []
    },
    {
      "cell_type": "code",
      "source": [
        "\"hola ' como estas\" # STRING"
      ],
      "metadata": {
        "id": "iheKG9lEYe2P"
      },
      "execution_count": null,
      "outputs": []
    },
    {
      "cell_type": "code",
      "source": [
        "1192 # INT"
      ],
      "metadata": {
        "id": "7px1KvAAYnA4"
      },
      "execution_count": null,
      "outputs": []
    },
    {
      "cell_type": "code",
      "source": [
        "100.9 # FLOAT"
      ],
      "metadata": {
        "id": "8KniSLgJYpDm"
      },
      "execution_count": null,
      "outputs": []
    },
    {
      "cell_type": "code",
      "source": [
        "True # BOOL (verdadero)"
      ],
      "metadata": {
        "id": "d7zoIVr2Yvzp"
      },
      "execution_count": null,
      "outputs": []
    },
    {
      "cell_type": "code",
      "source": [
        "False # BOOL (falso)"
      ],
      "metadata": {
        "id": "_X_NSGY4Yx5f"
      },
      "execution_count": null,
      "outputs": []
    },
    {
      "cell_type": "markdown",
      "source": [
        "## Variables y tipos de datos\n",
        "\n",
        "Una variable es donde se almacenan y recuperan los datos que utilizamos en nuestros programas.\n",
        "\n",
        "Las variables deben ser de un **tipo de datos**. En python tenemos tipos de datos primitivos como:\n",
        "\n",
        "- str: string (variables que almacenan caracteres)\n",
        "- int: integer (variables que almacenan números enteros)\n",
        "- float (variables que almacenan números con decimales)\n",
        "- bool: booleanos (variables que pueden tomar como valor TRUE o FALSE)\n",
        "\n",
        "Veamos algunos ejemplos!\n",
        "\n",
        "Definimos una variable de cada tipo:\n"
      ],
      "metadata": {
        "id": "MBEX7VkAeqKz"
      }
    },
    {
      "cell_type": "code",
      "source": [
        "# STRING\n",
        "variable_string = 'Esto es un string'"
      ],
      "metadata": {
        "id": "3WhnwsoZeoFp"
      },
      "execution_count": null,
      "outputs": []
    },
    {
      "cell_type": "code",
      "source": [
        "print(variable_string)"
      ],
      "metadata": {
        "id": "6ONr2MlPaCny"
      },
      "execution_count": null,
      "outputs": []
    },
    {
      "cell_type": "code",
      "source": [
        "# INT\n",
        "variable_int = 1\n",
        "\n",
        "# FLOAT\n",
        "variable_float = 1.1\n",
        "\n",
        "# BOOL\n",
        "variable_bool = True\n",
        "variable_bool_false = False"
      ],
      "metadata": {
        "id": "-P2q9tnoZqPI"
      },
      "execution_count": null,
      "outputs": []
    },
    {
      "cell_type": "code",
      "source": [
        "mi_variable = \"3.5\""
      ],
      "metadata": {
        "id": "h6qxFz50aaA2"
      },
      "execution_count": null,
      "outputs": []
    },
    {
      "cell_type": "code",
      "source": [
        "print(mi_variable)"
      ],
      "metadata": {
        "id": "-tru2qD8aguE"
      },
      "execution_count": null,
      "outputs": []
    },
    {
      "cell_type": "markdown",
      "source": [
        "En python, podemos usar la función type() para saber el tipo de una variable\n"
      ],
      "metadata": {
        "id": "j5cb88G0eyQn"
      }
    },
    {
      "cell_type": "code",
      "source": [
        "type(variable_string)"
      ],
      "metadata": {
        "id": "JaWwphruevic"
      },
      "execution_count": null,
      "outputs": []
    },
    {
      "cell_type": "code",
      "source": [
        "type(variable_int)"
      ],
      "metadata": {
        "id": "LDeBkkNne0BK"
      },
      "execution_count": null,
      "outputs": []
    },
    {
      "cell_type": "code",
      "source": [
        "type(variable_float)"
      ],
      "metadata": {
        "id": "kZqnek8we1UI"
      },
      "execution_count": null,
      "outputs": []
    },
    {
      "cell_type": "code",
      "source": [
        "type(variable_bool)"
      ],
      "metadata": {
        "id": "qJHabn_re2dP"
      },
      "execution_count": null,
      "outputs": []
    },
    {
      "cell_type": "markdown",
      "source": [
        "De que tipo es esta variable?"
      ],
      "metadata": {
        "id": "BW4ScZIOe5NO"
      }
    },
    {
      "cell_type": "code",
      "source": [
        "mi_variable = '1.3'"
      ],
      "metadata": {
        "id": "B-UKg8EJe3yb"
      },
      "execution_count": null,
      "outputs": []
    },
    {
      "cell_type": "code",
      "source": [
        "# COMPLETAR (imprimir el tipo de la variable mi_variable y ejecutar la celda)\n",
        "type(mi_variable)"
      ],
      "metadata": {
        "id": "UBPAeELme6TE"
      },
      "execution_count": null,
      "outputs": []
    },
    {
      "cell_type": "markdown",
      "source": [
        "F Strings: Nos permiten poner una variable dentro de un string. Se arman de la siguiente manera:"
      ],
      "metadata": {
        "id": "szpS1oFvikzk"
      }
    },
    {
      "cell_type": "code",
      "source": [
        "x = 10 #int\n",
        "f\"Esto es un f string. El valor de la variable x es: {x}\""
      ],
      "metadata": {
        "id": "58_JKftGiltc"
      },
      "execution_count": null,
      "outputs": []
    },
    {
      "cell_type": "markdown",
      "source": [
        "Las variables, como su nombre lo indica, pueden cambiar su valor a lo largo de la ejecución del programa. Veamos ejemplos.."
      ],
      "metadata": {
        "id": "TXxJl2o0fXC6"
      }
    },
    {
      "cell_type": "code",
      "source": [
        "a = 1\n",
        "print(f\"Valor de a: {a}\") # Cuando ponemos f adelante de un string, podemos imprimir el valor de una variable que pongamos entre {}\n",
        "a = 2\n",
        "print(f\"Nuevo valor de a: {a}\")\n",
        "a = a + 1 # a + 1 -> 2 + 1 -> 3\n",
        "print(f\"Le sumamos 1 a la variable y el resultado es: {a}\")"
      ],
      "metadata": {
        "id": "hAP9eEKce7we"
      },
      "execution_count": null,
      "outputs": []
    },
    {
      "cell_type": "markdown",
      "source": [
        "### None\n",
        "\n",
        "En python, el valor None representa una variable vacia"
      ],
      "metadata": {
        "id": "21SjkzDTfeXS"
      }
    },
    {
      "cell_type": "code",
      "source": [
        "vacia = None\n",
        "print(vacia)"
      ],
      "metadata": {
        "id": "EMt5ASuLfZHM"
      },
      "execution_count": null,
      "outputs": []
    },
    {
      "cell_type": "code",
      "source": [
        "type(vacia)"
      ],
      "metadata": {
        "id": "xX0kWxpVnNfC"
      },
      "execution_count": null,
      "outputs": []
    },
    {
      "cell_type": "markdown",
      "source": [
        "### Cambiar tipo de variable\n",
        "\n",
        "Los tipos de variables se pueden cambiar.\n",
        "\n",
        "Por ejemplo:"
      ],
      "metadata": {
        "id": "c1pPkEPbfhSD"
      }
    },
    {
      "cell_type": "code",
      "source": [
        "numero = 5\n",
        "print(type(numero))"
      ],
      "metadata": {
        "id": "Ql8cg3Z0ffpA"
      },
      "execution_count": null,
      "outputs": []
    },
    {
      "cell_type": "markdown",
      "source": [
        "Transformemos la variable numero a str:"
      ],
      "metadata": {
        "id": "MNt_aZMpflN1"
      }
    },
    {
      "cell_type": "code",
      "source": [
        "numero = str(numero)\n",
        "print(type(numero))"
      ],
      "metadata": {
        "id": "jMmrIakgfjAN"
      },
      "execution_count": null,
      "outputs": []
    },
    {
      "cell_type": "markdown",
      "source": [
        "De todas formas, no se puede en todos los casos. Por ejemplo, no podemos transformar en int un str que tiene como valor una palabra:"
      ],
      "metadata": {
        "id": "ENc6yEuvfpip"
      }
    },
    {
      "cell_type": "code",
      "source": [
        "palabra = 'prueba'\n",
        "int(palabra)"
      ],
      "metadata": {
        "id": "RR3xP1Cbfnp5"
      },
      "execution_count": null,
      "outputs": []
    },
    {
      "cell_type": "code",
      "source": [
        "mi_numero_entero = 5"
      ],
      "metadata": {
        "id": "4PDBW6mEc8jH"
      },
      "execution_count": null,
      "outputs": []
    },
    {
      "cell_type": "code",
      "source": [
        "float(mi_numero_entero)"
      ],
      "metadata": {
        "id": "rvfNqRtFc-fF"
      },
      "execution_count": null,
      "outputs": []
    },
    {
      "cell_type": "code",
      "source": [
        "mi_numero_float = 5.5\n",
        "\n",
        "int(mi_numero_float)"
      ],
      "metadata": {
        "id": "geFjWCQpdINO"
      },
      "execution_count": null,
      "outputs": []
    },
    {
      "cell_type": "code",
      "source": [
        "# Escribir ejemplos para:\n",
        "\n",
        "# Cambiar un entero a float\n",
        "# Cambiar un float a entero\n",
        "# Cambiar un float a string"
      ],
      "metadata": {
        "id": "jS9GN2OhcoZ5"
      },
      "execution_count": null,
      "outputs": []
    },
    {
      "cell_type": "markdown",
      "source": [
        "## Operaciones\n",
        "\n",
        "En python, como en todos los lenguajes de programación, podemos realizar operaciones matemáticas. Desde sumas y restas hasta operaciones más complejas.\n",
        "\n"
      ],
      "metadata": {
        "id": "UhvVP2VffwE_"
      }
    },
    {
      "cell_type": "code",
      "source": [
        "# SUMA\n",
        "print(1 + 1)"
      ],
      "metadata": {
        "id": "uQcnenynfsfk"
      },
      "execution_count": null,
      "outputs": []
    },
    {
      "cell_type": "code",
      "source": [
        "# RESTA\n",
        "print(3 - 1)"
      ],
      "metadata": {
        "id": "4TcU6767fxs6"
      },
      "execution_count": null,
      "outputs": []
    },
    {
      "cell_type": "markdown",
      "source": [
        "Para googlear:"
      ],
      "metadata": {
        "id": "hnGdIyebf4mb"
      }
    },
    {
      "cell_type": "code",
      "source": [
        "# MULTIPLICACIÓN\n",
        "\n",
        "# COMPLETAR EJEMPLO\n",
        "print()"
      ],
      "metadata": {
        "id": "VHWAEtVRfyhb"
      },
      "execution_count": null,
      "outputs": []
    },
    {
      "cell_type": "code",
      "source": [
        "# DIVISIÓN\n",
        "\n",
        "# COMPLETAR EJEMPLO\n",
        "print()"
      ],
      "metadata": {
        "id": "pqLUwaonf1Un"
      },
      "execution_count": null,
      "outputs": []
    },
    {
      "cell_type": "code",
      "source": [
        "# RESTO DE UNA DIVISIÓN\n",
        "\n",
        "# COMPLETAR EJEMPLO\n",
        "print()"
      ],
      "metadata": {
        "id": "xSDj-ISNf39B"
      },
      "execution_count": null,
      "outputs": []
    },
    {
      "cell_type": "code",
      "source": [
        "# ELEVAR UN NÚMERO AL CUADRADO\n",
        "\n",
        "# COMPLETAR EJEMPLO\n",
        "print()"
      ],
      "metadata": {
        "id": "oPhGoXfWf8Bv"
      },
      "execution_count": null,
      "outputs": []
    },
    {
      "cell_type": "markdown",
      "source": [
        "Tambien podemos realizar operaciones entre variables, o asignar el resultado de una operacion a una variable"
      ],
      "metadata": {
        "id": "vRyBc_8egANi"
      }
    },
    {
      "cell_type": "code",
      "source": [
        "a = 1\n",
        "b = 2\n",
        "c = a + b # es lo mismo que hacer 1 + 2\n",
        "print(c)"
      ],
      "metadata": {
        "id": "2nD3PiIPf-WW"
      },
      "execution_count": null,
      "outputs": []
    },
    {
      "cell_type": "markdown",
      "source": [
        "Los string, también nos permiten aplicar operaciones.\n",
        "\n",
        "¿ Qué pasa si sumamos 2 strings ?"
      ],
      "metadata": {
        "id": "SsRiwxv5gGG-"
      }
    },
    {
      "cell_type": "code",
      "source": [
        "# COMPLETAR CON UN EJEMPLO\n",
        "a =\n",
        "b =\n",
        "\n",
        "print(a + b)"
      ],
      "metadata": {
        "id": "UCB7IAtIgBxz"
      },
      "execution_count": null,
      "outputs": []
    },
    {
      "cell_type": "markdown",
      "source": [
        "¿Y si multiplicamos un string por un número entero?\n"
      ],
      "metadata": {
        "id": "nZ7txusogQ2A"
      }
    },
    {
      "cell_type": "code",
      "source": [
        "# COMPLETAR CON UN EJEMPLO\n",
        "a * 10"
      ],
      "metadata": {
        "id": "j50PoNn1gPIt"
      },
      "execution_count": null,
      "outputs": []
    },
    {
      "cell_type": "markdown",
      "source": [
        "PREGUNTA: ¿Que tipo de dato se genera si multiplicamos un STRING y un ENTERO?"
      ],
      "metadata": {
        "id": "uga0ufnMgrXs"
      }
    },
    {
      "cell_type": "code",
      "source": [
        "# COMPLETAR CON UN EJEMPLO\n",
        "type(a * 10)"
      ],
      "metadata": {
        "id": "V5gLVnFSgpDR"
      },
      "execution_count": null,
      "outputs": []
    },
    {
      "cell_type": "markdown",
      "source": [
        "Funciones sobre strings:"
      ],
      "metadata": {
        "id": "9Nn-TWB_g0oB"
      }
    },
    {
      "cell_type": "code",
      "source": [
        "string_ejemplo = \"Hola como estás?\""
      ],
      "metadata": {
        "id": "iQnailvcgtgS"
      },
      "execution_count": null,
      "outputs": []
    },
    {
      "cell_type": "code",
      "source": [
        "print()"
      ],
      "metadata": {
        "id": "SUnkhygJgSwp"
      },
      "execution_count": null,
      "outputs": []
    },
    {
      "cell_type": "code",
      "source": [
        "help(print)"
      ],
      "metadata": {
        "id": "i-ff0KwYgwtG"
      },
      "execution_count": null,
      "outputs": []
    },
    {
      "cell_type": "markdown",
      "source": [
        "Función IN"
      ],
      "metadata": {
        "id": "1iq9aplWg5AT"
      }
    },
    {
      "cell_type": "code",
      "source": [
        "x = \"Hola\""
      ],
      "metadata": {
        "id": "a4uuHMxRe4Yz"
      },
      "execution_count": null,
      "outputs": []
    },
    {
      "cell_type": "code",
      "source": [
        "\"Hola\" in string_ejemplo"
      ],
      "metadata": {
        "id": "n1dS82KDg2-d"
      },
      "execution_count": null,
      "outputs": []
    },
    {
      "cell_type": "code",
      "source": [
        "\"Hola\" not in string_ejemplo"
      ],
      "metadata": {
        "id": "hJvsiC0AfOHr"
      },
      "execution_count": null,
      "outputs": []
    },
    {
      "cell_type": "markdown",
      "source": [
        "Función replace"
      ],
      "metadata": {
        "id": "q1fK0ZCEg75P"
      }
    },
    {
      "cell_type": "code",
      "source": [
        "x"
      ],
      "metadata": {
        "id": "QOz9xsY-moKy"
      },
      "execution_count": null,
      "outputs": []
    },
    {
      "cell_type": "code",
      "source": [
        "string_ejemplo.replace(\"como\", \"COMO\")"
      ],
      "metadata": {
        "id": "oHSiw2bmg6MK"
      },
      "execution_count": null,
      "outputs": []
    },
    {
      "cell_type": "code",
      "source": [
        "print(\"noanfo\")"
      ],
      "metadata": {
        "id": "4aVl10_XmeTx"
      },
      "execution_count": null,
      "outputs": []
    },
    {
      "cell_type": "code",
      "source": [
        "string_ejemplo = \"hola hola como hola estas hhhh hola como 44444444\""
      ],
      "metadata": {
        "id": "zrOW4RYenUH2"
      },
      "execution_count": null,
      "outputs": []
    },
    {
      "cell_type": "code",
      "source": [
        "string_ejemplo.count(\"hola como\")"
      ],
      "metadata": {
        "id": "vnHFaNlYnlsE"
      },
      "execution_count": null,
      "outputs": []
    },
    {
      "cell_type": "code",
      "source": [
        "\"hola\" in string_ejemplo"
      ],
      "metadata": {
        "id": "v_xSqZhdnsKM"
      },
      "execution_count": null,
      "outputs": []
    },
    {
      "cell_type": "markdown",
      "source": [
        "**EJERCICIO** : Buscar las funciones de STRINGS en python:\n",
        "\n",
        "- capitalize()\n",
        "- count()\n",
        "- endswith()\n",
        "- upper() y lower()\n",
        "\n",
        "Y escribir un ejemplo de aplicación de cada una"
      ],
      "metadata": {
        "id": "mB57SWLlibwE"
      }
    },
    {
      "cell_type": "code",
      "source": [
        "# COMPLETAR"
      ],
      "metadata": {
        "id": "_Pd8AHxbiqic"
      },
      "execution_count": null,
      "outputs": []
    },
    {
      "cell_type": "markdown",
      "source": [
        "## Mensajes de error\n",
        "\n",
        "A la hora de programar, vamos a ir obteniendo muchos mensajes de error. Es muy importante aprender a entender esos errores e identificar en que parte de nuestro código están. Muchas veces vamos a pasarnos tiempo buscando un error en google!"
      ],
      "metadata": {
        "id": "_DeAuCRfiqF0"
      }
    },
    {
      "cell_type": "code",
      "source": [
        "a = error"
      ],
      "metadata": {
        "id": "FX8eVQ9ig9bW"
      },
      "execution_count": null,
      "outputs": []
    },
    {
      "cell_type": "markdown",
      "source": [
        "¿ Por qué sucede el error de la celda anterior?\n",
        "\n",
        "¿Y el siguiente?"
      ],
      "metadata": {
        "id": "zKPSYC7aiu4P"
      }
    },
    {
      "cell_type": "code",
      "source": [
        "\"Hola\" * 1.5"
      ],
      "metadata": {
        "id": "j1Roi3Odi7X9"
      },
      "execution_count": null,
      "outputs": []
    },
    {
      "cell_type": "code",
      "source": [],
      "metadata": {
        "id": "9x2tZIsC--A7"
      },
      "execution_count": null,
      "outputs": []
    }
  ]
}